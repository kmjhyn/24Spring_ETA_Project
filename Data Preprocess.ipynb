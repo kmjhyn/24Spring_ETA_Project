{
 "cells": [
  {
   "cell_type": "markdown",
   "id": "6a31d693-c3c9-4290-907e-03641baa014c",
   "metadata": {},
   "source": [
    "# Data Preprocess"
   ]
  },
  {
   "cell_type": "code",
   "execution_count": null,
   "id": "e6679c0b-9c01-44d2-95ac-217ddc558618",
   "metadata": {
    "tags": []
   },
   "outputs": [],
   "source": [
    "# IMPORT\n",
    "import pandas as pd\n",
    "import numpy as np"
   ]
  },
  {
   "cell_type": "code",
   "execution_count": null,
   "id": "c768c47a-3dac-4e31-9199-44c88b44a262",
   "metadata": {
    "tags": []
   },
   "outputs": [],
   "source": [
    "data_home = '../Users/user/Documents/UVA/CS Course/24Spring/ETA_Project/Dataset'\n",
    "data_prefix = 'Star Wars - Episode '"
   ]
  },
  {
   "cell_type": "code",
   "execution_count": null,
   "id": "671afd46-f80b-4f02-a11c-1007c85b7cf2",
   "metadata": {
    "tags": []
   },
   "outputs": [],
   "source": [
    "raw_one = pd.DataFrame(open(f'{data_home}/{data_prefix}I - The Phantom Menace (1999)', 'r').readlines(), columns=['line_str'])\n",
    "raw_one.index.name = 'line_num'"
   ]
  }
 ],
 "metadata": {
  "kernelspec": {
   "display_name": "Python 3 (ipykernel)",
   "language": "python",
   "name": "python3"
  },
  "language_info": {
   "codemirror_mode": {
    "name": "ipython",
    "version": 3
   },
   "file_extension": ".py",
   "mimetype": "text/x-python",
   "name": "python",
   "nbconvert_exporter": "python",
   "pygments_lexer": "ipython3",
   "version": "3.12.1"
  }
 },
 "nbformat": 4,
 "nbformat_minor": 5
}
