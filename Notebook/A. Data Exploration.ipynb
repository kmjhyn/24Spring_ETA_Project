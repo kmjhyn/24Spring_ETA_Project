{
 "cells": [
  {
   "cell_type": "markdown",
   "id": "6a31d693-c3c9-4290-907e-03641baa014c",
   "metadata": {},
   "source": [
    "# A. Data Exploration\n",
    "I explored the basic format of the script using episode I"
   ]
  },
  {
   "cell_type": "markdown",
   "id": "074f11f5-c048-4fd1-a46e-17fb04a2c82f",
   "metadata": {},
   "source": [
    "## Import"
   ]
  },
  {
   "cell_type": "code",
   "execution_count": 1,
   "id": "e6679c0b-9c01-44d2-95ac-217ddc558618",
   "metadata": {
    "tags": []
   },
   "outputs": [],
   "source": [
    "import pandas as pd\n",
    "import numpy as np\n",
    "import matplotlib"
   ]
  },
  {
   "cell_type": "markdown",
   "id": "c183a2f7-71cc-40f5-aa98-18115477f57b",
   "metadata": {},
   "source": [
    "## Raw Data & Config"
   ]
  },
  {
   "cell_type": "code",
   "execution_count": 2,
   "id": "c768c47a-3dac-4e31-9199-44c88b44a262",
   "metadata": {
    "tags": []
   },
   "outputs": [],
   "source": [
    "data_home = 'C:/Users/user/Desktop/24Spring_ETA_Project/Dataset'\n",
    "data_prefix = 'Star Wars- Episode '\n",
    "output_dir = 'C:/Users/user/Desktop/24Spring_ETA_Project/Output'\n",
    "\n",
    "ep1 = f\"{data_home}/{data_prefix}I - The Phantom Menace (1999).rtf\"\n",
    "ep2 = f\"{data_home}/{data_prefix}II - Attack of the Clones (2002).rtf\"\n",
    "ep3 = f\"{data_home}/{data_prefix}III - Revenge of the Sith (2005).rtf\"\n",
    "ep4 = f\"{data_home}/{data_prefix}IV - A New Hope (1977).rtf\"\n",
    "ep5 = f\"{data_home}/{data_prefix}V - The Empire Strikes Back (1980).rtf\"\n",
    "ep6 = f\"{data_home}/{data_prefix}VI - Return of the Jedi (1983).rtf\""
   ]
  },
  {
   "cell_type": "code",
   "execution_count": 3,
   "id": "5b772f40-0651-4414-b659-d8b91b4add6e",
   "metadata": {},
   "outputs": [],
   "source": [
    "lines = open(ep1, 'r').readlines()"
   ]
  },
  {
   "cell_type": "markdown",
   "id": "3ab8acd8-b486-40de-b93f-6c2e9d639a60",
   "metadata": {},
   "source": [
    "## Exploring scripts (based on episode I)"
   ]
  },
  {
   "cell_type": "markdown",
   "id": "733cc6c7-4e51-4d0c-a8f4-b6fdfdb37ed9",
   "metadata": {},
   "source": [
    "### Exploring parts of raw text"
   ]
  },
  {
   "cell_type": "code",
   "execution_count": 4,
   "id": "8e1f3f2f-ee70-4903-b505-6c08c3a0069c",
   "metadata": {},
   "outputs": [
    {
     "data": {
      "text/plain": [
       "['{\\\\rtf1\\\\ansi\\\\ansicpg1252\\\\cocoartf2639\\n',\n",
       " '\\\\cocoatextscaling0\\\\cocoaplatform0{\\\\fonttbl\\\\f0\\\\fmodern\\\\fcharset0 Courier;}\\n',\n",
       " '{\\\\colortbl;\\\\red255\\\\green255\\\\blue255;\\\\red26\\\\green26\\\\blue26;}\\n',\n",
       " '{\\\\*\\\\expandedcolortbl;;\\\\cssrgb\\\\c13333\\\\c13333\\\\c13333;}\\n',\n",
       " '\\\\margl1440\\\\margr1440\\\\vieww11520\\\\viewh8400\\\\viewkind0\\n',\n",
       " '\\\\deftab720\\n',\n",
       " '\\\\pard\\\\pardeftab720\\\\partightenfactor0\\n',\n",
       " '\\n',\n",
       " '\\\\f0\\\\fs26\\\\fsmilli13125 \\\\cf2 \\\\expnd0\\\\expndtw0\\\\kerning0\\n',\n",
       " '\\\\outl0\\\\strokewidth0 \\\\strokec2 \"A long time ago in a galaxy far, far away....\"\\\\\\n',\n",
       " '\\\\\\n',\n",
       " 'A vast sea of stars serves as the backdrop for the MAIN TITLE,\\\\\\n',\n",
       " 'followed by a ROLL UP, which crawls up into infinity.\\\\\\n',\n",
       " '\\\\\\n']"
      ]
     },
     "execution_count": 4,
     "metadata": {},
     "output_type": "execute_result"
    }
   ],
   "source": [
    "#top 15 lines of starwars starting subtitles\n",
    "lines[0:14]"
   ]
  },
  {
   "cell_type": "code",
   "execution_count": 5,
   "id": "5fae4462-6a3d-4f50-bf38-2ce7930e48a7",
   "metadata": {},
   "outputs": [
    {
     "data": {
      "text/plain": [
       "['\"EPISODE 1 THE PHANTOM MENACE\"\\\\\\n', '\\\\\\n']"
      ]
     },
     "execution_count": 5,
     "metadata": {},
     "output_type": "execute_result"
    }
   ],
   "source": [
    "# episode 1 & title\n",
    "lines[14:16]"
   ]
  },
  {
   "cell_type": "code",
   "execution_count": 6,
   "id": "ec1048b7-2896-42c0-aea4-1cc3a0382097",
   "metadata": {},
   "outputs": [
    {
     "data": {
      "text/plain": [
       "['\"Turmoil has engulfed the Galactic Republic. The taxation of\\\\\\n',\n",
       " 'trade routes to outlaying star systems is in dispute.  Hoping\\\\\\n',\n",
       " 'to resolve the matter with a blockade of deadly battleships,\\\\\\n',\n",
       " 'the greedy Trade Federation has stopped all shipping to the\\\\\\n',\n",
       " 'small planet of Naboo.\\\\\\n',\n",
       " '\\\\\\n',\n",
       " 'While the congress of the Republic endlessly debates this\\\\\\n',\n",
       " 'alarming chain of events, the Supreme Chancellor has secretly\\\\\\n',\n",
       " 'dispatched two Jedi Knights, the guardians of peace and\\\\\\n']"
      ]
     },
     "execution_count": 6,
     "metadata": {},
     "output_type": "execute_result"
    }
   ],
   "source": [
    "# descriptions & notice how line breaks are \\\\\\n regardless of actual sentence\n",
    "lines[16:25]"
   ]
  },
  {
   "cell_type": "code",
   "execution_count": 7,
   "id": "9d943762-d97c-4483-b56e-bd9770a17a18",
   "metadata": {},
   "outputs": [
    {
     "data": {
      "text/plain": [
       "['\\t\\tCAPTAIN\\\\\\n',\n",
       " '\\tYes, sir?\\\\\\n',\n",
       " '\\\\\\n',\n",
       " '\\t\\tQUI-GON (O.S.)\\\\\\n',\n",
       " '\\tTell them we wish to board at once.\\\\\\n',\n",
       " '\\\\\\n',\n",
       " '\\t\\tCAPTAIN\\\\\\n',\n",
       " '\\tYes, sir.\\\\\\n']"
      ]
     },
     "execution_count": 7,
     "metadata": {},
     "output_type": "execute_result"
    }
   ],
   "source": [
    "# characters are tabbed twice (\\t\\t), their lines follow with only one tab (\\t)\n",
    "lines[42:50]"
   ]
  },
  {
   "cell_type": "code",
   "execution_count": 8,
   "id": "1e14cc16-457a-4fa3-b1e7-5e1dc12e524d",
   "metadata": {},
   "outputs": [
    {
     "data": {
      "text/plain": [
       "['\\t\\tCAPTAIN\\\\\\n',\n",
       " '\\tWith all due respect for the Trade\\\\\\n',\n",
       " '\\tFederation, the Ambassadors for the\\\\\\n',\n",
       " '\\tSupreme Chancellor wish to board\\\\\\n',\n",
       " '\\timmediately.\\\\\\n',\n",
       " '\\\\\\n']"
      ]
     },
     "execution_count": 8,
     "metadata": {},
     "output_type": "execute_result"
    }
   ],
   "source": [
    "# lines are also divided into several lines regardless of sentence structure\n",
    "lines[54:60]"
   ]
  },
  {
   "cell_type": "markdown",
   "id": "6ee45a6e-574a-4ace-84af-e23fdf19e561",
   "metadata": {},
   "source": [
    "### Line dividing\n",
    "first divided senteces for lines"
   ]
  },
  {
   "cell_type": "code",
   "execution_count": 9,
   "id": "8af8bd5c-daa1-4aa5-83aa-1c72eea6a7eb",
   "metadata": {},
   "outputs": [
    {
     "data": {
      "text/plain": [
       "['{\\\\rtf1\\\\ansi\\\\ansicpg1252\\\\cocoartf2639\\n\\\\cocoatextscaling0\\\\cocoaplatform0{\\\\fonttbl\\\\f0\\\\fmodern\\\\fcharset0 Courier;}\\n{\\\\colortbl;\\\\red255\\\\green255\\\\blue255;\\\\red26\\\\green26\\\\blue26;}\\n{\\\\*\\\\expandedcolortbl;;\\\\cssrgb\\\\c13333\\\\c13333\\\\c13333;}\\n\\\\margl1440\\\\margr1440\\\\vieww11520\\\\viewh8400\\\\viewkind0\\n\\\\deftab720\\n\\\\pard\\\\pardeftab720\\\\partightenfactor0\\n\\n\\\\f0\\\\fs26\\\\fsmilli13125 \\\\cf2 \\\\expnd0\\\\expndtw0\\\\kerning0\\n\\\\outl0\\\\strokewidth0 \\\\strokec2 \"A long time ago in a galaxy far, far away....\"',\n",
       " '',\n",
       " 'A vast sea of stars serves as the backdrop for the MAIN TITLE,',\n",
       " 'followed by a ROLL UP, which crawls up into infinity.',\n",
       " '']"
      ]
     },
     "execution_count": 9,
     "metadata": {},
     "output_type": "execute_result"
    }
   ],
   "source": [
    "chunk_pat = '\\\\\\n'\n",
    "chunks = open(ep1, 'r').read().split(chunk_pat)\n",
    "chunks[:5]"
   ]
  },
  {
   "cell_type": "code",
   "execution_count": 10,
   "id": "07229782-db5b-4878-93bb-d33190ebc881",
   "metadata": {},
   "outputs": [
    {
     "data": {
      "text/plain": [
       "(7258, 1)"
      ]
     },
     "execution_count": 10,
     "metadata": {},
     "output_type": "execute_result"
    }
   ],
   "source": [
    "text = pd.DataFrame(chunks, columns=['chunk_str'])\n",
    "text.index.name = 'chunk_id'\n",
    "text.shape"
   ]
  },
  {
   "cell_type": "markdown",
   "id": "8cdc8101-fd6d-4769-9eef-111964402618",
   "metadata": {},
   "source": [
    "### Making Lists targetted for scripts (lines, characters, others)"
   ]
  },
  {
   "cell_type": "code",
   "execution_count": 11,
   "id": "6c3dde6f-6b2b-43ba-a0c9-ebd2466d21a6",
   "metadata": {},
   "outputs": [
    {
     "data": {
      "text/html": [
       "<div>\n",
       "<style scoped>\n",
       "    .dataframe tbody tr th:only-of-type {\n",
       "        vertical-align: middle;\n",
       "    }\n",
       "\n",
       "    .dataframe tbody tr th {\n",
       "        vertical-align: top;\n",
       "    }\n",
       "\n",
       "    .dataframe thead th {\n",
       "        text-align: right;\n",
       "    }\n",
       "</style>\n",
       "<table border=\"1\" class=\"dataframe\">\n",
       "  <thead>\n",
       "    <tr style=\"text-align: right;\">\n",
       "      <th></th>\n",
       "      <th>chunk_str</th>\n",
       "    </tr>\n",
       "    <tr>\n",
       "      <th>chunk_id</th>\n",
       "      <th></th>\n",
       "    </tr>\n",
       "  </thead>\n",
       "  <tbody>\n",
       "    <tr>\n",
       "      <th>0</th>\n",
       "      <td>{\\rtf1\\ansi\\ansicpg1252\\cocoartf2639\\n\\cocoate...</td>\n",
       "    </tr>\n",
       "    <tr>\n",
       "      <th>1</th>\n",
       "      <td></td>\n",
       "    </tr>\n",
       "    <tr>\n",
       "      <th>2</th>\n",
       "      <td>A vast sea of stars serves as the backdrop for...</td>\n",
       "    </tr>\n",
       "    <tr>\n",
       "      <th>3</th>\n",
       "      <td>followed by a ROLL UP, which crawls up into in...</td>\n",
       "    </tr>\n",
       "  </tbody>\n",
       "</table>\n",
       "</div>"
      ],
      "text/plain": [
       "                                                  chunk_str\n",
       "chunk_id                                                   \n",
       "0         {\\rtf1\\ansi\\ansicpg1252\\cocoartf2639\\n\\cocoate...\n",
       "1                                                          \n",
       "2         A vast sea of stars serves as the backdrop for...\n",
       "3         followed by a ROLL UP, which crawls up into in..."
      ]
     },
     "execution_count": 11,
     "metadata": {},
     "output_type": "execute_result"
    }
   ],
   "source": [
    "# general descriptions, acting/filming related prompts are written without any formatting such as indentations or bold.\n",
    "# Since the current 'text' is splitted with \\\\\\n, these are also deleted.\n",
    "text[0:4]"
   ]
  },
  {
   "cell_type": "code",
   "execution_count": 12,
   "id": "98815023-0df1-42c4-8d27-ea78c974ce69",
   "metadata": {},
   "outputs": [
    {
     "data": {
      "text/html": [
       "<div>\n",
       "<style scoped>\n",
       "    .dataframe tbody tr th:only-of-type {\n",
       "        vertical-align: middle;\n",
       "    }\n",
       "\n",
       "    .dataframe tbody tr th {\n",
       "        vertical-align: top;\n",
       "    }\n",
       "\n",
       "    .dataframe thead th {\n",
       "        text-align: right;\n",
       "    }\n",
       "</style>\n",
       "<table border=\"1\" class=\"dataframe\">\n",
       "  <thead>\n",
       "    <tr style=\"text-align: right;\">\n",
       "      <th></th>\n",
       "      <th>chunk_str</th>\n",
       "    </tr>\n",
       "    <tr>\n",
       "      <th>chunk_id</th>\n",
       "      <th></th>\n",
       "    </tr>\n",
       "  </thead>\n",
       "  <tbody>\n",
       "    <tr>\n",
       "      <th>44</th>\n",
       "      <td></td>\n",
       "    </tr>\n",
       "    <tr>\n",
       "      <th>45</th>\n",
       "      <td>\\t\\tCAPTAIN</td>\n",
       "    </tr>\n",
       "    <tr>\n",
       "      <th>46</th>\n",
       "      <td>\\tWith all due respect for the Trade</td>\n",
       "    </tr>\n",
       "    <tr>\n",
       "      <th>47</th>\n",
       "      <td>\\tFederation, the Ambassadors for the</td>\n",
       "    </tr>\n",
       "    <tr>\n",
       "      <th>48</th>\n",
       "      <td>\\tSupreme Chancellor wish to board</td>\n",
       "    </tr>\n",
       "    <tr>\n",
       "      <th>49</th>\n",
       "      <td>\\timmediately.</td>\n",
       "    </tr>\n",
       "  </tbody>\n",
       "</table>\n",
       "</div>"
      ],
      "text/plain": [
       "                                      chunk_str\n",
       "chunk_id                                       \n",
       "44                                             \n",
       "45                                  \\t\\tCAPTAIN\n",
       "46         \\tWith all due respect for the Trade\n",
       "47        \\tFederation, the Ambassadors for the\n",
       "48           \\tSupreme Chancellor wish to board\n",
       "49                               \\timmediately."
      ]
     },
     "execution_count": 12,
     "metadata": {},
     "output_type": "execute_result"
    }
   ],
   "source": [
    "# character names are indented twice (\\t\\t)\n",
    "# according lines are indented once (\\t)\n",
    "# this is for episode I, but it was different for episode V,\n",
    "# therefore splitting characters with lines are done differently below\n",
    "text[44:50]"
   ]
  },
  {
   "cell_type": "code",
   "execution_count": 13,
   "id": "138d010a-3629-47ec-9e16-bb6d058eaa26",
   "metadata": {},
   "outputs": [],
   "source": [
    "Dialogue = [] # dialogue here is not comprised of sentences per characters\n",
    "Characters = []\n",
    "Description = []\n",
    "for i in range (0, 7258):\n",
    "    if '\\t\\t\\t' in text.chunk_str[i]:\n",
    "        continue\n",
    "    if '\\t\\t' in text.chunk_str[i]:\n",
    "        Characters.append(text.chunk_str[i].replace('\\t\\t', '').replace('(O.S.)','').replace('(V.O.)', '').replace('(SUBTITLED)', '').replace('(SUTITLED)','').replace('-','').replace(' ', '').replace('.', ''))\n",
    "        continue\n",
    "    if '\\t' in text.chunk_str[i]:\n",
    "        Dialogue.append(text.chunk_str[i].replace('\\t',''))\n",
    "        continue\n",
    "    else:\n",
    "        Description.append(text.chunk_str[i])"
   ]
  },
  {
   "cell_type": "code",
   "execution_count": 14,
   "id": "a87fad0e-2314-4f9d-a060-0fe2b4a18c7d",
   "metadata": {},
   "outputs": [
    {
     "data": {
      "text/html": [
       "<div>\n",
       "<style scoped>\n",
       "    .dataframe tbody tr th:only-of-type {\n",
       "        vertical-align: middle;\n",
       "    }\n",
       "\n",
       "    .dataframe tbody tr th {\n",
       "        vertical-align: top;\n",
       "    }\n",
       "\n",
       "    .dataframe thead th {\n",
       "        text-align: right;\n",
       "    }\n",
       "</style>\n",
       "<table border=\"1\" class=\"dataframe\">\n",
       "  <thead>\n",
       "    <tr style=\"text-align: right;\">\n",
       "      <th></th>\n",
       "      <th>line_str</th>\n",
       "    </tr>\n",
       "    <tr>\n",
       "      <th>order</th>\n",
       "      <th></th>\n",
       "    </tr>\n",
       "  </thead>\n",
       "  <tbody>\n",
       "    <tr>\n",
       "      <th>0</th>\n",
       "      <td>Captain.</td>\n",
       "    </tr>\n",
       "    <tr>\n",
       "      <th>1</th>\n",
       "      <td>Yes, sir?</td>\n",
       "    </tr>\n",
       "    <tr>\n",
       "      <th>2</th>\n",
       "      <td>Tell them we wish to board at once.</td>\n",
       "    </tr>\n",
       "    <tr>\n",
       "      <th>3</th>\n",
       "      <td>Yes, sir.</td>\n",
       "    </tr>\n",
       "    <tr>\n",
       "      <th>4</th>\n",
       "      <td>With all due respect for the Trade</td>\n",
       "    </tr>\n",
       "    <tr>\n",
       "      <th>5</th>\n",
       "      <td>Federation, the Ambassadors for the</td>\n",
       "    </tr>\n",
       "    <tr>\n",
       "      <th>6</th>\n",
       "      <td>Supreme Chancellor wish to board</td>\n",
       "    </tr>\n",
       "    <tr>\n",
       "      <th>7</th>\n",
       "      <td>immediately.</td>\n",
       "    </tr>\n",
       "    <tr>\n",
       "      <th>8</th>\n",
       "      <td>Yes, yes, of coarse...ahhh...as you</td>\n",
       "    </tr>\n",
       "    <tr>\n",
       "      <th>9</th>\n",
       "      <td>know, our blockade is perfectly legal,</td>\n",
       "    </tr>\n",
       "  </tbody>\n",
       "</table>\n",
       "</div>"
      ],
      "text/plain": [
       "                                     line_str\n",
       "order                                        \n",
       "0                                    Captain.\n",
       "1                                   Yes, sir?\n",
       "2         Tell them we wish to board at once.\n",
       "3                                   Yes, sir.\n",
       "4          With all due respect for the Trade\n",
       "5         Federation, the Ambassadors for the\n",
       "6            Supreme Chancellor wish to board\n",
       "7                                immediately.\n",
       "8         Yes, yes, of coarse...ahhh...as you\n",
       "9      know, our blockade is perfectly legal,"
      ]
     },
     "execution_count": 14,
     "metadata": {},
     "output_type": "execute_result"
    }
   ],
   "source": [
    "# Dialogues - only includes the lines that are actually spoken in the movie\n",
    "line_list = pd.DataFrame(Dialogue, columns=['line_str'])\n",
    "line_list.index.name = 'order'\n",
    "line_list[0:10]"
   ]
  },
  {
   "cell_type": "code",
   "execution_count": 15,
   "id": "36cb3178-a81c-4e50-8478-739bc015530b",
   "metadata": {},
   "outputs": [
    {
     "data": {
      "text/html": [
       "<div>\n",
       "<style scoped>\n",
       "    .dataframe tbody tr th:only-of-type {\n",
       "        vertical-align: middle;\n",
       "    }\n",
       "\n",
       "    .dataframe tbody tr th {\n",
       "        vertical-align: top;\n",
       "    }\n",
       "\n",
       "    .dataframe thead th {\n",
       "        text-align: right;\n",
       "    }\n",
       "</style>\n",
       "<table border=\"1\" class=\"dataframe\">\n",
       "  <thead>\n",
       "    <tr style=\"text-align: right;\">\n",
       "      <th></th>\n",
       "      <th>character_str</th>\n",
       "    </tr>\n",
       "    <tr>\n",
       "      <th>order</th>\n",
       "      <th></th>\n",
       "    </tr>\n",
       "  </thead>\n",
       "  <tbody>\n",
       "    <tr>\n",
       "      <th>0</th>\n",
       "      <td>QUIGON</td>\n",
       "    </tr>\n",
       "    <tr>\n",
       "      <th>1</th>\n",
       "      <td>CAPTAIN</td>\n",
       "    </tr>\n",
       "    <tr>\n",
       "      <th>2</th>\n",
       "      <td>QUIGON</td>\n",
       "    </tr>\n",
       "    <tr>\n",
       "      <th>3</th>\n",
       "      <td>CAPTAIN</td>\n",
       "    </tr>\n",
       "    <tr>\n",
       "      <th>4</th>\n",
       "      <td>CAPTAIN</td>\n",
       "    </tr>\n",
       "  </tbody>\n",
       "</table>\n",
       "</div>"
      ],
      "text/plain": [
       "      character_str\n",
       "order              \n",
       "0            QUIGON\n",
       "1           CAPTAIN\n",
       "2            QUIGON\n",
       "3           CAPTAIN\n",
       "4           CAPTAIN"
      ]
     },
     "execution_count": 15,
     "metadata": {},
     "output_type": "execute_result"
    }
   ],
   "source": [
    "# Characters - lists characters in order of their speech\n",
    "character_list = pd.DataFrame(Characters, columns=['character_str'])\n",
    "character_list.index.name = 'order'\n",
    "character_list[0:5]"
   ]
  },
  {
   "cell_type": "code",
   "execution_count": 16,
   "id": "462541ee-7afd-489d-8828-ec8d3324ae5e",
   "metadata": {},
   "outputs": [
    {
     "data": {
      "text/html": [
       "<div>\n",
       "<style scoped>\n",
       "    .dataframe tbody tr th:only-of-type {\n",
       "        vertical-align: middle;\n",
       "    }\n",
       "\n",
       "    .dataframe tbody tr th {\n",
       "        vertical-align: top;\n",
       "    }\n",
       "\n",
       "    .dataframe thead th {\n",
       "        text-align: right;\n",
       "    }\n",
       "</style>\n",
       "<table border=\"1\" class=\"dataframe\">\n",
       "  <thead>\n",
       "    <tr style=\"text-align: right;\">\n",
       "      <th></th>\n",
       "      <th>other_str</th>\n",
       "    </tr>\n",
       "    <tr>\n",
       "      <th>order</th>\n",
       "      <th></th>\n",
       "    </tr>\n",
       "  </thead>\n",
       "  <tbody>\n",
       "    <tr>\n",
       "      <th>808</th>\n",
       "      <td>hanger shoot at them.</td>\n",
       "    </tr>\n",
       "    <tr>\n",
       "      <th>2063</th>\n",
       "      <td>embrace. Hundreds of SPECTATORS join them and ...</td>\n",
       "    </tr>\n",
       "    <tr>\n",
       "      <th>1913</th>\n",
       "      <td>The blast cuts along the engine until finally ...</td>\n",
       "    </tr>\n",
       "    <tr>\n",
       "      <th>2295</th>\n",
       "      <td>ANAKIN drops to the ground just as DARTH MAUL ...</td>\n",
       "    </tr>\n",
       "    <tr>\n",
       "      <th>2797</th>\n",
       "      <td></td>\n",
       "    </tr>\n",
       "  </tbody>\n",
       "</table>\n",
       "</div>"
      ],
      "text/plain": [
       "                                               other_str\n",
       "order                                                   \n",
       "808                                hanger shoot at them.\n",
       "2063   embrace. Hundreds of SPECTATORS join them and ...\n",
       "1913   The blast cuts along the engine until finally ...\n",
       "2295   ANAKIN drops to the ground just as DARTH MAUL ...\n",
       "2797                                                    "
      ]
     },
     "execution_count": 16,
     "metadata": {},
     "output_type": "execute_result"
    }
   ],
   "source": [
    "# Description - only includes the remaining description parts used for acting or filming\n",
    "other_list = pd.DataFrame(Description, columns=['other_str'])\n",
    "other_list.index.name = 'order'\n",
    "other_list.sample(5)"
   ]
  },
  {
   "cell_type": "markdown",
   "id": "f047d581-a859-4061-a50a-702c75805c7c",
   "metadata": {},
   "source": [
    "### Capturing Character Names"
   ]
  },
  {
   "cell_type": "code",
   "execution_count": 17,
   "id": "b3755ad4-f9cd-4fe2-89e2-49d3652b0e78",
   "metadata": {},
   "outputs": [
    {
     "data": {
      "text/html": [
       "<div>\n",
       "<style scoped>\n",
       "    .dataframe tbody tr th:only-of-type {\n",
       "        vertical-align: middle;\n",
       "    }\n",
       "\n",
       "    .dataframe tbody tr th {\n",
       "        vertical-align: top;\n",
       "    }\n",
       "\n",
       "    .dataframe thead th {\n",
       "        text-align: right;\n",
       "    }\n",
       "</style>\n",
       "<table border=\"1\" class=\"dataframe\">\n",
       "  <thead>\n",
       "    <tr style=\"text-align: right;\">\n",
       "      <th></th>\n",
       "      <th>n</th>\n",
       "      <th>p</th>\n",
       "    </tr>\n",
       "    <tr>\n",
       "      <th>character_str</th>\n",
       "      <th></th>\n",
       "      <th></th>\n",
       "    </tr>\n",
       "  </thead>\n",
       "  <tbody>\n",
       "    <tr>\n",
       "      <th>QUIGON</th>\n",
       "      <td>210</td>\n",
       "      <td>0.190045</td>\n",
       "    </tr>\n",
       "    <tr>\n",
       "      <th>ANAKIN</th>\n",
       "      <td>186</td>\n",
       "      <td>0.168326</td>\n",
       "    </tr>\n",
       "    <tr>\n",
       "      <th>JARJAR</th>\n",
       "      <td>90</td>\n",
       "      <td>0.081448</td>\n",
       "    </tr>\n",
       "    <tr>\n",
       "      <th>OBIWAN</th>\n",
       "      <td>75</td>\n",
       "      <td>0.067873</td>\n",
       "    </tr>\n",
       "    <tr>\n",
       "      <th>PADME</th>\n",
       "      <td>60</td>\n",
       "      <td>0.054299</td>\n",
       "    </tr>\n",
       "  </tbody>\n",
       "</table>\n",
       "</div>"
      ],
      "text/plain": [
       "                 n         p\n",
       "character_str               \n",
       "QUIGON         210  0.190045\n",
       "ANAKIN         186  0.168326\n",
       "JARJAR          90  0.081448\n",
       "OBIWAN          75  0.067873\n",
       "PADME           60  0.054299"
      ]
     },
     "execution_count": 17,
     "metadata": {},
     "output_type": "execute_result"
    }
   ],
   "source": [
    "character_count = character_list.character_str.value_counts().to_frame('n')\n",
    "character_count.index.name = 'character_str'\n",
    "character_count['p'] = character_count.n / character_count.n.sum()\n",
    "character_count.head(5)"
   ]
  },
  {
   "cell_type": "code",
   "execution_count": 18,
   "id": "650f4c30-9cf9-4ea9-a664-5b1e66379b93",
   "metadata": {},
   "outputs": [
    {
     "data": {
      "image/png": "[encoded data removed]",
      "text/plain": [
       "<Figure size 500x500 with 1 Axes>"
      ]
     },
     "metadata": {},
     "output_type": "display_data"
    }
   ],
   "source": [
    "# character_count.p.plot(figsize=(10,5), fontsize=14, rot=45, legend=False)\n",
    "character_count.p.head(20).sort_values().plot.barh(figsize=(5,5));"
   ]
  },
  {
   "cell_type": "markdown",
   "id": "d9d69e87-b6be-4a40-bcf8-d76d4001555f",
   "metadata": {},
   "source": [
    "### Convert Lines to Tokens\n",
    "using original text, making token and vocab dataset for further analysis"
   ]
  },
  {
   "cell_type": "code",
   "execution_count": 19,
   "id": "eefab793-e0cb-429b-9e85-0fda225e326d",
   "metadata": {},
   "outputs": [
    {
     "data": {
      "text/html": [
       "<div>\n",
       "<style scoped>\n",
       "    .dataframe tbody tr th:only-of-type {\n",
       "        vertical-align: middle;\n",
       "    }\n",
       "\n",
       "    .dataframe tbody tr th {\n",
       "        vertical-align: top;\n",
       "    }\n",
       "\n",
       "    .dataframe thead th {\n",
       "        text-align: right;\n",
       "    }\n",
       "</style>\n",
       "<table border=\"1\" class=\"dataframe\">\n",
       "  <thead>\n",
       "    <tr style=\"text-align: right;\">\n",
       "      <th></th>\n",
       "      <th>chunk_str</th>\n",
       "    </tr>\n",
       "    <tr>\n",
       "      <th>chunk_id</th>\n",
       "      <th></th>\n",
       "    </tr>\n",
       "  </thead>\n",
       "  <tbody>\n",
       "    <tr>\n",
       "      <th>2</th>\n",
       "      <td>A vast sea of stars serves as the backdrop for...</td>\n",
       "    </tr>\n",
       "    <tr>\n",
       "      <th>3</th>\n",
       "      <td>followed by a ROLL UP, which crawls up into in...</td>\n",
       "    </tr>\n",
       "    <tr>\n",
       "      <th>4</th>\n",
       "      <td></td>\n",
       "    </tr>\n",
       "    <tr>\n",
       "      <th>5</th>\n",
       "      <td>\"EPISODE 1 THE PHANTOM MENACE\"</td>\n",
       "    </tr>\n",
       "    <tr>\n",
       "      <th>6</th>\n",
       "      <td></td>\n",
       "    </tr>\n",
       "    <tr>\n",
       "      <th>...</th>\n",
       "      <td>...</td>\n",
       "    </tr>\n",
       "    <tr>\n",
       "      <th>7253</th>\n",
       "      <td></td>\n",
       "    </tr>\n",
       "    <tr>\n",
       "      <th>7254</th>\n",
       "      <td>\\t\\t\\t\\t\\t   IRIS OUT:</td>\n",
       "    </tr>\n",
       "    <tr>\n",
       "      <th>7255</th>\n",
       "      <td></td>\n",
       "    </tr>\n",
       "    <tr>\n",
       "      <th>7256</th>\n",
       "      <td>END TITLES</td>\n",
       "    </tr>\n",
       "    <tr>\n",
       "      <th>7257</th>\n",
       "      <td>}</td>\n",
       "    </tr>\n",
       "  </tbody>\n",
       "</table>\n",
       "<p>7256 rows × 1 columns</p>\n",
       "</div>"
      ],
      "text/plain": [
       "                                                  chunk_str\n",
       "chunk_id                                                   \n",
       "2         A vast sea of stars serves as the backdrop for...\n",
       "3         followed by a ROLL UP, which crawls up into in...\n",
       "4                                                          \n",
       "5                            \"EPISODE 1 THE PHANTOM MENACE\"\n",
       "6                                                          \n",
       "...                                                     ...\n",
       "7253                                                       \n",
       "7254                                 \\t\\t\\t\\t\\t   IRIS OUT:\n",
       "7255                                                       \n",
       "7256                                             END TITLES\n",
       "7257                                                      }\n",
       "\n",
       "[7256 rows x 1 columns]"
      ]
     },
     "execution_count": 19,
     "metadata": {},
     "output_type": "execute_result"
    }
   ],
   "source": [
    "chunk_pat = '\\\\\\n'\n",
    "chunks = open(ep1, 'r').read().split(chunk_pat)\n",
    "chunks[:5]\n",
    "text = pd.DataFrame(chunks, columns=['chunk_str'])\n",
    "text.index.name = 'chunk_id'\n",
    "# text.shape\n",
    "# text.head(15)\n",
    "text = text.drop([0,1]) #get rid of the first font part\n",
    "text"
   ]
  },
  {
   "cell_type": "markdown",
   "id": "77c9e85b-9892-4948-b6be-ed879223df3c",
   "metadata": {},
   "source": [
    "#### Extract Token"
   ]
  },
  {
   "cell_type": "code",
   "execution_count": 20,
   "id": "4c1123fc-7f9c-4839-acfd-28f67befbb57",
   "metadata": {},
   "outputs": [
    {
     "data": {
      "text/html": [
       "<div>\n",
       "<style scoped>\n",
       "    .dataframe tbody tr th:only-of-type {\n",
       "        vertical-align: middle;\n",
       "    }\n",
       "\n",
       "    .dataframe tbody tr th {\n",
       "        vertical-align: top;\n",
       "    }\n",
       "\n",
       "    .dataframe thead th {\n",
       "        text-align: right;\n",
       "    }\n",
       "</style>\n",
       "<table border=\"1\" class=\"dataframe\">\n",
       "  <thead>\n",
       "    <tr style=\"text-align: right;\">\n",
       "      <th></th>\n",
       "      <th></th>\n",
       "      <th>token_str</th>\n",
       "    </tr>\n",
       "    <tr>\n",
       "      <th>chunk_num</th>\n",
       "      <th>token_num</th>\n",
       "      <th></th>\n",
       "    </tr>\n",
       "  </thead>\n",
       "  <tbody>\n",
       "    <tr>\n",
       "      <th>6595</th>\n",
       "      <th>8</th>\n",
       "      <td>their</td>\n",
       "    </tr>\n",
       "    <tr>\n",
       "      <th>1014</th>\n",
       "      <th>3</th>\n",
       "      <td>submarine</td>\n",
       "    </tr>\n",
       "    <tr>\n",
       "      <th>3153</th>\n",
       "      <th>6</th>\n",
       "      <td>engines</td>\n",
       "    </tr>\n",
       "    <tr>\n",
       "      <th>4069</th>\n",
       "      <th>1</th>\n",
       "      <td>get</td>\n",
       "    </tr>\n",
       "    <tr>\n",
       "      <th>1561</th>\n",
       "      <th>0</th>\n",
       "      <td>(no</td>\n",
       "    </tr>\n",
       "    <tr>\n",
       "      <th>4836</th>\n",
       "      <th>0</th>\n",
       "      <td>on</td>\n",
       "    </tr>\n",
       "    <tr>\n",
       "      <th>7247</th>\n",
       "      <th>8</th>\n",
       "      <td>GUARDS,</td>\n",
       "    </tr>\n",
       "    <tr>\n",
       "      <th>4818</th>\n",
       "      <th>2</th>\n",
       "      <td>enters,</td>\n",
       "    </tr>\n",
       "    <tr>\n",
       "      <th>3341</th>\n",
       "      <th>7</th>\n",
       "      <td>WATTO,</td>\n",
       "    </tr>\n",
       "    <tr>\n",
       "      <th>639</th>\n",
       "      <th>9</th>\n",
       "      <td>huge</td>\n",
       "    </tr>\n",
       "    <tr>\n",
       "      <th>3765</th>\n",
       "      <th>4</th>\n",
       "      <td>racing</td>\n",
       "    </tr>\n",
       "    <tr>\n",
       "      <th>4262</th>\n",
       "      <th>0</th>\n",
       "      <td>you.</td>\n",
       "    </tr>\n",
       "    <tr>\n",
       "      <th>6210</th>\n",
       "      <th>0</th>\n",
       "      <td>and</td>\n",
       "    </tr>\n",
       "    <tr>\n",
       "      <th>1095</th>\n",
       "      <th>6</th>\n",
       "      <td>belong</td>\n",
       "    </tr>\n",
       "    <tr>\n",
       "      <th>1521</th>\n",
       "      <th>4</th>\n",
       "      <td>MEMBERS</td>\n",
       "    </tr>\n",
       "  </tbody>\n",
       "</table>\n",
       "</div>"
      ],
      "text/plain": [
       "                     token_str\n",
       "chunk_num token_num           \n",
       "6595      8              their\n",
       "1014      3          submarine\n",
       "3153      6            engines\n",
       "4069      1                get\n",
       "1561      0                (no\n",
       "4836      0                 on\n",
       "7247      8            GUARDS,\n",
       "4818      2            enters,\n",
       "3341      7             WATTO,\n",
       "639       9               huge\n",
       "3765      4             racing\n",
       "4262      0               you.\n",
       "6210      0                and\n",
       "1095      6             belong\n",
       "1521      4            MEMBERS"
      ]
     },
     "execution_count": 20,
     "metadata": {},
     "output_type": "execute_result"
    }
   ],
   "source": [
    "# Remove remaining breaks\n",
    "K = text.chunk_str.str.split(expand=True).stack().to_frame('token_str')\n",
    "K.index.names = ['chunk_num','token_num']\n",
    "K.sample(15)\n",
    "# text.chunk_str = text.chunk_str.str.replace('\"', '').replace('\\t\\t', '').replace('(O.S.)','').replace('(V.O.)', '').replace('(SUBTITLED)', '').replace('(SUTITLED)','').replace('-','').replace(' ', '').replace('.', '').replace('\\t','').str.strip()"
   ]
  },
  {
   "cell_type": "code",
   "execution_count": 21,
   "id": "cc7d5e80-6260-4ef8-b447-a22e526e8884",
   "metadata": {},
   "outputs": [
    {
     "data": {
      "text/html": [
       "<div>\n",
       "<style scoped>\n",
       "    .dataframe tbody tr th:only-of-type {\n",
       "        vertical-align: middle;\n",
       "    }\n",
       "\n",
       "    .dataframe tbody tr th {\n",
       "        vertical-align: top;\n",
       "    }\n",
       "\n",
       "    .dataframe thead th {\n",
       "        text-align: right;\n",
       "    }\n",
       "</style>\n",
       "<table border=\"1\" class=\"dataframe\">\n",
       "  <thead>\n",
       "    <tr style=\"text-align: right;\">\n",
       "      <th></th>\n",
       "      <th></th>\n",
       "      <th>token_str</th>\n",
       "      <th>term_str</th>\n",
       "    </tr>\n",
       "    <tr>\n",
       "      <th>chunk_num</th>\n",
       "      <th>token_num</th>\n",
       "      <th></th>\n",
       "      <th></th>\n",
       "    </tr>\n",
       "  </thead>\n",
       "  <tbody>\n",
       "    <tr>\n",
       "      <th rowspan=\"5\" valign=\"top\">2</th>\n",
       "      <th>0</th>\n",
       "      <td>A</td>\n",
       "      <td>a</td>\n",
       "    </tr>\n",
       "    <tr>\n",
       "      <th>1</th>\n",
       "      <td>vast</td>\n",
       "      <td>vast</td>\n",
       "    </tr>\n",
       "    <tr>\n",
       "      <th>2</th>\n",
       "      <td>sea</td>\n",
       "      <td>sea</td>\n",
       "    </tr>\n",
       "    <tr>\n",
       "      <th>3</th>\n",
       "      <td>of</td>\n",
       "      <td>of</td>\n",
       "    </tr>\n",
       "    <tr>\n",
       "      <th>4</th>\n",
       "      <td>stars</td>\n",
       "      <td>stars</td>\n",
       "    </tr>\n",
       "    <tr>\n",
       "      <th>...</th>\n",
       "      <th>...</th>\n",
       "      <td>...</td>\n",
       "      <td>...</td>\n",
       "    </tr>\n",
       "    <tr>\n",
       "      <th rowspan=\"2\" valign=\"top\">7254</th>\n",
       "      <th>0</th>\n",
       "      <td>IRIS</td>\n",
       "      <td>iris</td>\n",
       "    </tr>\n",
       "    <tr>\n",
       "      <th>1</th>\n",
       "      <td>OUT:</td>\n",
       "      <td>out</td>\n",
       "    </tr>\n",
       "    <tr>\n",
       "      <th rowspan=\"2\" valign=\"top\">7256</th>\n",
       "      <th>0</th>\n",
       "      <td>END</td>\n",
       "      <td>end</td>\n",
       "    </tr>\n",
       "    <tr>\n",
       "      <th>1</th>\n",
       "      <td>TITLES</td>\n",
       "      <td>titles</td>\n",
       "    </tr>\n",
       "    <tr>\n",
       "      <th>7257</th>\n",
       "      <th>0</th>\n",
       "      <td>}</td>\n",
       "      <td></td>\n",
       "    </tr>\n",
       "  </tbody>\n",
       "</table>\n",
       "<p>28311 rows × 2 columns</p>\n",
       "</div>"
      ],
      "text/plain": [
       "                    token_str term_str\n",
       "chunk_num token_num                   \n",
       "2         0                 A        a\n",
       "          1              vast     vast\n",
       "          2               sea      sea\n",
       "          3                of       of\n",
       "          4             stars    stars\n",
       "...                       ...      ...\n",
       "7254      0              IRIS     iris\n",
       "          1              OUT:      out\n",
       "7256      0               END      end\n",
       "          1            TITLES   titles\n",
       "7257      0                 }         \n",
       "\n",
       "[28311 rows x 2 columns]"
      ]
     },
     "execution_count": 21,
     "metadata": {},
     "output_type": "execute_result"
    }
   ],
   "source": [
    "K['term_str'] = K.token_str.str.replace(r'\\W+', '', regex=True).str.lower()\n",
    "K"
   ]
  },
  {
   "cell_type": "markdown",
   "id": "4fec34a7-9326-4ffa-9669-3ffa59d7d983",
   "metadata": {},
   "source": [
    "#### Extract Vocabulary"
   ]
  },
  {
   "cell_type": "code",
   "execution_count": 22,
   "id": "cf30f87c-a285-43ca-b57b-38d0aec8dde2",
   "metadata": {},
   "outputs": [],
   "source": [
    "V = K.term_str.value_counts().to_frame('n')\n",
    "V.index.name = 'term_str'"
   ]
  },
  {
   "cell_type": "code",
   "execution_count": 23,
   "id": "7127ee56-983c-402d-91e7-ea53e8c90e8a",
   "metadata": {},
   "outputs": [
    {
     "data": {
      "text/html": [
       "<div>\n",
       "<style scoped>\n",
       "    .dataframe tbody tr th:only-of-type {\n",
       "        vertical-align: middle;\n",
       "    }\n",
       "\n",
       "    .dataframe tbody tr th {\n",
       "        vertical-align: top;\n",
       "    }\n",
       "\n",
       "    .dataframe thead th {\n",
       "        text-align: right;\n",
       "    }\n",
       "</style>\n",
       "<table border=\"1\" class=\"dataframe\">\n",
       "  <thead>\n",
       "    <tr style=\"text-align: right;\">\n",
       "      <th></th>\n",
       "      <th>n</th>\n",
       "    </tr>\n",
       "    <tr>\n",
       "      <th>term_str</th>\n",
       "      <th></th>\n",
       "    </tr>\n",
       "  </thead>\n",
       "  <tbody>\n",
       "    <tr>\n",
       "      <th>the</th>\n",
       "      <td>1745</td>\n",
       "    </tr>\n",
       "    <tr>\n",
       "      <th>and</th>\n",
       "      <td>662</td>\n",
       "    </tr>\n",
       "    <tr>\n",
       "      <th>to</th>\n",
       "      <td>640</td>\n",
       "    </tr>\n",
       "    <tr>\n",
       "      <th>a</th>\n",
       "      <td>604</td>\n",
       "    </tr>\n",
       "    <tr>\n",
       "      <th>jar</th>\n",
       "      <td>504</td>\n",
       "    </tr>\n",
       "  </tbody>\n",
       "</table>\n",
       "</div>"
      ],
      "text/plain": [
       "             n\n",
       "term_str      \n",
       "the       1745\n",
       "and        662\n",
       "to         640\n",
       "a          604\n",
       "jar        504"
      ]
     },
     "execution_count": 23,
     "metadata": {},
     "output_type": "execute_result"
    }
   ],
   "source": [
    "V.head(5)"
   ]
  },
  {
   "cell_type": "code",
   "execution_count": 24,
   "id": "01229f19-1370-47c9-b897-aa4667f5e574",
   "metadata": {},
   "outputs": [
    {
     "data": {
      "text/html": [
       "<div>\n",
       "<style scoped>\n",
       "    .dataframe tbody tr th:only-of-type {\n",
       "        vertical-align: middle;\n",
       "    }\n",
       "\n",
       "    .dataframe tbody tr th {\n",
       "        vertical-align: top;\n",
       "    }\n",
       "\n",
       "    .dataframe thead th {\n",
       "        text-align: right;\n",
       "    }\n",
       "</style>\n",
       "<table border=\"1\" class=\"dataframe\">\n",
       "  <thead>\n",
       "    <tr style=\"text-align: right;\">\n",
       "      <th></th>\n",
       "      <th>n</th>\n",
       "      <th>p</th>\n",
       "    </tr>\n",
       "    <tr>\n",
       "      <th>term_str</th>\n",
       "      <th></th>\n",
       "      <th></th>\n",
       "    </tr>\n",
       "  </thead>\n",
       "  <tbody>\n",
       "    <tr>\n",
       "      <th>the</th>\n",
       "      <td>1745</td>\n",
       "      <td>0.061637</td>\n",
       "    </tr>\n",
       "    <tr>\n",
       "      <th>and</th>\n",
       "      <td>662</td>\n",
       "      <td>0.023383</td>\n",
       "    </tr>\n",
       "    <tr>\n",
       "      <th>to</th>\n",
       "      <td>640</td>\n",
       "      <td>0.022606</td>\n",
       "    </tr>\n",
       "    <tr>\n",
       "      <th>a</th>\n",
       "      <td>604</td>\n",
       "      <td>0.021334</td>\n",
       "    </tr>\n",
       "    <tr>\n",
       "      <th>jar</th>\n",
       "      <td>504</td>\n",
       "      <td>0.017802</td>\n",
       "    </tr>\n",
       "    <tr>\n",
       "      <th>...</th>\n",
       "      <td>...</td>\n",
       "      <td>...</td>\n",
       "    </tr>\n",
       "    <tr>\n",
       "      <th>offer</th>\n",
       "      <td>1</td>\n",
       "      <td>0.000035</td>\n",
       "    </tr>\n",
       "    <tr>\n",
       "      <th>beeping</th>\n",
       "      <td>1</td>\n",
       "      <td>0.000035</td>\n",
       "    </tr>\n",
       "    <tr>\n",
       "      <th>capsules</th>\n",
       "      <td>1</td>\n",
       "      <td>0.000035</td>\n",
       "    </tr>\n",
       "    <tr>\n",
       "      <th>meal</th>\n",
       "      <td>1</td>\n",
       "      <td>0.000035</td>\n",
       "    </tr>\n",
       "    <tr>\n",
       "      <th>titles</th>\n",
       "      <td>1</td>\n",
       "      <td>0.000035</td>\n",
       "    </tr>\n",
       "  </tbody>\n",
       "</table>\n",
       "<p>3891 rows × 2 columns</p>\n",
       "</div>"
      ],
      "text/plain": [
       "             n         p\n",
       "term_str                \n",
       "the       1745  0.061637\n",
       "and        662  0.023383\n",
       "to         640  0.022606\n",
       "a          604  0.021334\n",
       "jar        504  0.017802\n",
       "...        ...       ...\n",
       "offer        1  0.000035\n",
       "beeping      1  0.000035\n",
       "capsules     1  0.000035\n",
       "meal         1  0.000035\n",
       "titles       1  0.000035\n",
       "\n",
       "[3891 rows x 2 columns]"
      ]
     },
     "execution_count": 24,
     "metadata": {},
     "output_type": "execute_result"
    }
   ],
   "source": [
    "V['p'] = V.n / V.n.sum()\n",
    "V"
   ]
  },
  {
   "cell_type": "markdown",
   "id": "1226da4f-3f90-4d37-9905-7db54d606380",
   "metadata": {},
   "source": [
    "## Generalizing for 6 different episode files (Functions)"
   ]
  },
  {
   "cell_type": "markdown",
   "id": "6712d6ce-9259-434e-bb1e-04ea1c969f62",
   "metadata": {},
   "source": [
    "### CHECK SHAPE FOR ALL EPISODES"
   ]
  },
  {
   "cell_type": "code",
   "execution_count": 25,
   "id": "246b1050-c1b7-4d76-a5fe-015d009317c3",
   "metadata": {},
   "outputs": [],
   "source": [
    "def shape(episode):\n",
    "    if episode == ep3:\n",
    "        chunk_pat = '\\n'\n",
    "        chunks = open(episode, 'r').read().split(chunk_pat)\n",
    "        chunks[:5]\n",
    "        text = pd.DataFrame(chunks, columns=['chunk_str'])\n",
    "        text.index.name = 'chunk_id'\n",
    "        return text.shape\n",
    "    else:\n",
    "        chunk_pat = '\\\\\\n'\n",
    "        chunks = open(episode, 'r').read().split(chunk_pat)\n",
    "        chunks[:5]\n",
    "        text = pd.DataFrame(chunks, columns=['chunk_str'])\n",
    "        text.index.name = 'chunk_id'\n",
    "        return text.shape"
   ]
  },
  {
   "cell_type": "code",
   "execution_count": 26,
   "id": "9cfa7c04-ede6-475f-9d98-19b31c5a015b",
   "metadata": {},
   "outputs": [
    {
     "data": {
      "text/plain": [
       "(4079, 1)"
      ]
     },
     "execution_count": 26,
     "metadata": {},
     "output_type": "execute_result"
    }
   ],
   "source": [
    "# shape(ep1) 7258\n",
    "# shape(ep2) 6254\n",
    "# shape(ep4) 6313\n",
    "# shape(ep5) 6437\n",
    "# shape(ep6) 4998\n",
    "shape(ep3)"
   ]
  },
  {
   "cell_type": "code",
   "execution_count": 27,
   "id": "c65b1e06-e9d5-46a3-a7f9-56f06c1a006f",
   "metadata": {},
   "outputs": [],
   "source": [
    "def gettoken(episode):\n",
    "    if episode == ep3:\n",
    "        chunk_pat = '\\n'\n",
    "        chunks = open(episode, 'r').read().split(chunk_pat)\n",
    "        text = pd.DataFrame(chunks, columns=['chunk_str'])\n",
    "        text.index.name = 'chunk_id'\n",
    "        text = text.drop([0,1])\n",
    "        K = text.chunk_str.str.split(expand=True).stack().to_frame('token_str')\n",
    "        K.index.names = ['chunk_num','token_num']\n",
    "        K['term_str'] = K.token_str.str.replace(r'\\W+', '', regex=True).str.lower()\n",
    "        \n",
    "        V = K.term_str.value_counts().to_frame('n')\n",
    "        V.index.name = 'term_str'\n",
    "        V['p'] = V.n / V.n.sum()\n",
    "        \n",
    "        return K, V\n",
    "    else:\n",
    "        chunk_pat = '\\\\\\n'\n",
    "        chunks = open(episode, 'r').read().split(chunk_pat)\n",
    "        text = pd.DataFrame(chunks, columns=['chunk_str'])\n",
    "        text.index.name = 'chunk_id'\n",
    "        text = text.drop([0,1])\n",
    "        K = text.chunk_str.str.split(expand=True).stack().to_frame('token_str')\n",
    "        K.index.names = ['chunk_num','token_num']\n",
    "        K['term_str'] = K.token_str.str.replace(r'\\W+', '', regex=True).str.lower()\n",
    "        \n",
    "        V = K.term_str.value_counts().to_frame('n')\n",
    "        V.index.name = 'term_str'\n",
    "        V['p'] = V.n / V.n.sum()\n",
    "        \n",
    "        return K, V"
   ]
  },
  {
   "cell_type": "markdown",
   "id": "1734d1cc-65c7-43df-952c-d354b0aa7e22",
   "metadata": {},
   "source": [
    "### function for targetted text"
   ]
  },
  {
   "cell_type": "code",
   "execution_count": 28,
   "id": "d1e49f71-8207-4eaa-9341-0d7ce54b4af8",
   "metadata": {},
   "outputs": [],
   "source": [
    "# shape(ep1) 7258\n",
    "# shape(ep2) 6254\n",
    "# shape(ep3) 4079\n",
    "# shape(ep4) 6313\n",
    "# shape(ep5) 6437\n",
    "# shape(ep6) 4998\n",
    "\n",
    "\n",
    "def get_text(episode):\n",
    "    if episode == ep3:\n",
    "        chunk_pat = '\\n'\n",
    "        chunks = open(episode, 'r').read().split(chunk_pat)\n",
    "        text = pd.DataFrame(chunks, columns=['chunk_str'])\n",
    "        text.index.name = 'chunk_id'\n",
    "        text = text \n",
    "    \n",
    "    else:\n",
    "        chunk_pat = '\\\\\\n'\n",
    "        chunks = open(episode, 'r').read().split(chunk_pat)\n",
    "        text = pd.DataFrame(chunks, columns=['chunk_str'])\n",
    "        text.index.name = 'chunk_id'\n",
    "        text = text.drop([0,1])\n",
    "\n",
    "    return text\n",
    "\n",
    "def targetlist(text,episode):\n",
    "    Dialogue = []\n",
    "    Characters = []\n",
    "    Description = []\n",
    "\n",
    "    if episode == ep1:\n",
    "        for i in range (2, 7258):\n",
    "            if '\\t\\t\\t' in text.chunk_str[i]:\n",
    "                continue\n",
    "            if '\\t\\t' in text.chunk_str[i]:\n",
    "                Characters.append(text.chunk_str[i].replace('\\t\\t', '').replace('(O.S.)','').replace('(V.O.)', '').replace('(SUBTITLED)', '').replace('(SUTITLED)','').replace('-','').replace(' ', '').replace('.', ''))\n",
    "                continue\n",
    "            if '\\t' in text.chunk_str[i]:\n",
    "                Dialogue.append(text.chunk_str[i].replace('\\t',''))\n",
    "                continue\n",
    "            else:\n",
    "                Description.append(text.chunk_str[i])\n",
    "    elif episode == ep2:\n",
    "        for i in range (2, 6254):\n",
    "            if '\\t\\t\\t' in text.chunk_str[i]:\n",
    "                continue\n",
    "            if '\\t\\t' in text.chunk_str[i]:\n",
    "                if text.chunk_str[i].strip().startswith(('(')):\n",
    "                    Description.append(text.chunk_str[i])\n",
    "                else:\n",
    "                    Characters.append(text.chunk_str[i].replace('\\t\\t', '').replace('(O.S.)','').replace('(V.O.)', '').replace('(SUBTITLED)', '').replace('(SUTITLED)','').replace('-','').replace(' ', '').replace('.', ''))\n",
    "                continue\n",
    "            if '\\t' in text.chunk_str[i]:\n",
    "                Dialogue.append(text.chunk_str[i].replace('\\t',''))\n",
    "                continue\n",
    "            else:\n",
    "                Description.append(text.chunk_str[i])\n",
    "    elif episode == ep3:\n",
    "        for i in range (0, 4079):\n",
    "            if '\\t' in text.chunk_str[i]:\n",
    "                Description.append(text.chunk_str[i])\n",
    "                continue\n",
    "            if text.chunk_str[i].startswith(('INTERIOR', 'EXTERIOR')):\n",
    "                Description.append(text.chunk_str[i])\n",
    "                continue\n",
    "\n",
    "            elif ':' in text.chunk_str[i] and text.chunk_str[i].split(':')[0].isupper():\n",
    "                parts = text.chunk_str[i].split(':', 1) \n",
    "                Characters.append(parts[0].strip())\n",
    "                if len(parts) > 1:\n",
    "                    Dialogue.append(parts[1].strip())\n",
    "            else:\n",
    "                Description.append(text.chunk_str[i])  \n",
    "                \n",
    "    elif episode == ep4:\n",
    "        for i in range (2, 6313):\n",
    "            if '\\t' in text.chunk_str[i]:\n",
    "                Description.append(text.chunk_str[i])\n",
    "                continue\n",
    "            if text.chunk_str[i].startswith(('INTERIOR', 'EXTERIOR')):\n",
    "                Description.append(text.chunk_str[i])\n",
    "                continue\n",
    "\n",
    "            elif ':' in text.chunk_str[i] and text.chunk_str[i].split(':')[0].isupper():\n",
    "                parts = text.chunk_str[i].split(':', 1) \n",
    "                Characters.append(parts[0].strip())\n",
    "                if len(parts) > 1:\n",
    "                    Dialogue.append(parts[1].strip())\n",
    "            else:\n",
    "                Description.append(text.chunk_str[i])                    \n",
    "  \n",
    "    elif episode == ep5:\n",
    "        # had slightly different foramting\n",
    "        for i in range (2, 6437):\n",
    "            # if '\\t\\t\\t' in text.chunk_str[i]:\n",
    "            #     continue\n",
    "            if '\\t\\t\\t\\t' in text.chunk_str[i]:\n",
    "                Characters.append(text.chunk_str[i].replace('\\t\\t', '').replace('(O.S.)','').replace('(V.O.)', '').replace('(SUBTITLED)', '').replace('(SUTITLED)','').replace('-','').replace(' ', '').replace('.', ''))\n",
    "                continue\n",
    "            if '\\t\\t' in text.chunk_str[i]:\n",
    "                Dialogue.append(text.chunk_str[i].replace('\\t',''))\n",
    "                continue\n",
    "            else:\n",
    "                Description.append(text.chunk_str[i])\n",
    "\n",
    "    elif episode == ep6:\n",
    "        for i in range (2, 4998):\n",
    "            if '\\t\\t\\t' in text.chunk_str[i]:\n",
    "                continue\n",
    "            if '\\t\\t' in text.chunk_str[i]:\n",
    "                Characters.append(text.chunk_str[i].replace('\\t\\t', '').replace('(O.S.)','').replace('(V.O.)', '').replace('(SUBTITLED)', '').replace('(SUTITLED)','').replace('-','').replace(' ', '').replace('.', ''))\n",
    "                continue\n",
    "            if '\\t' in text.chunk_str[i]:\n",
    "                Dialogue.append(text.chunk_str[i].replace('\\t',''))\n",
    "                continue\n",
    "            else:\n",
    "                Description.append(text.chunk_str[i])\n",
    "\n",
    "    line_list = pd.DataFrame(Dialogue, columns=['chunk_str'])\n",
    "    line_list.index.name = 'order'\n",
    "\n",
    "    other_list = pd.DataFrame(Description, columns=['chunk_str'])\n",
    "    other_list.index.name = 'order'\n",
    "\n",
    "    character_list = pd.DataFrame(Characters, columns=['chunk_str'])\n",
    "    character_list.index.name = 'order'\n",
    "    character_count = character_list.chunk_str.value_counts().to_frame('n')\n",
    "    character_count.index.name = 'character_str'\n",
    "    character_count['p'] = character_count.n / character_count.n.sum()\n",
    "\n",
    "    return line_list, other_list, character_count"
   ]
  },
  {
   "cell_type": "markdown",
   "id": "3759b28f-0531-409d-ac07-95a221075de4",
   "metadata": {},
   "source": [
    "### episode 1"
   ]
  },
  {
   "cell_type": "code",
   "execution_count": 29,
   "id": "72b9e3f5-e97b-45e5-a3c4-de3674badd59",
   "metadata": {},
   "outputs": [],
   "source": [
    "text_ep1 = get_text(ep1)\n",
    "line_list_ep1, other_list_ep1, character_count_ep1 = targetlist(text_ep1, ep1)\n",
    "\n",
    "line_list_ep1.to_csv(f\"{output_dir}/explore/ep1-line.csv\")\n",
    "other_list_ep1.to_csv(f\"{output_dir}/explore/ep1-other.csv\")\n",
    "character_count_ep1.to_csv(f\"{output_dir}/explore/ep1-character.csv\")"
   ]
  },
  {
   "cell_type": "code",
   "execution_count": 30,
   "id": "2b8f72b0-9299-4e81-84da-4dc03b093aee",
   "metadata": {},
   "outputs": [],
   "source": [
    "# character_count_ep1.head()"
   ]
  },
  {
   "cell_type": "markdown",
   "id": "9583fbcb-cde8-4967-89d6-d1555440e644",
   "metadata": {},
   "source": [
    "### episode 2"
   ]
  },
  {
   "cell_type": "code",
   "execution_count": 31,
   "id": "b1cd46c8-a436-4a9b-8f9c-d8fd225fe2b4",
   "metadata": {},
   "outputs": [],
   "source": [
    "text_ep2 = get_text(ep2)\n",
    "line_list_ep2, other_list_ep2, character_count_ep2 = targetlist(text_ep2, ep2)\n",
    "\n",
    "line_list_ep2.to_csv(f\"{output_dir}/explore/ep2-line.csv\")\n",
    "other_list_ep2.to_csv(f\"{output_dir}/explore/ep2-other.csv\")\n",
    "character_count_ep2.to_csv(f\"{output_dir}/explore/ep2-character.csv\")"
   ]
  },
  {
   "cell_type": "code",
   "execution_count": 32,
   "id": "569f2352-cc0e-4d0e-9deb-3ba781f183d0",
   "metadata": {},
   "outputs": [],
   "source": [
    "# for idx in character_count_ep2.index:\n",
    "#     print(repr(idx))"
   ]
  },
  {
   "cell_type": "code",
   "execution_count": 33,
   "id": "e4bd2e1b-537f-4296-9c15-d9ba94edcb06",
   "metadata": {},
   "outputs": [],
   "source": [
    "character_count_ep2.reset_index(inplace=True)\n",
    "# character_count_ep2"
   ]
  },
  {
   "cell_type": "code",
   "execution_count": 34,
   "id": "dbca9fc0-1e1b-4463-83fe-c2d8f3beff63",
   "metadata": {},
   "outputs": [],
   "source": [
    "# character_count_ep2['character_str'] = character_count_ep2['character_str'].replace({\n",
    "#     r'PADM\\n\\\\f1\\\\uc0\\\\u65533\\n\\\\f0': 'PADME',\n",
    "#     r'CORD\\n\\\\f1\\\\uc0\\\\u65533\\n\\\\f0': 'CORD'\n",
    "# })\n",
    "character_count_ep2.loc[2, 'character_str'] = 'PADME'\n",
    "character_count_ep2.loc[65, 'character_str'] = 'CORD'"
   ]
  },
  {
   "cell_type": "code",
   "execution_count": 35,
   "id": "dcb76c0e-1a07-4322-9c9c-b21c904f6091",
   "metadata": {},
   "outputs": [],
   "source": [
    "character_count_ep2 = character_count_ep2.groupby('character_str').agg({\n",
    "    'n': 'sum',\n",
    "    'p': 'mean'\n",
    "})\n",
    "\n",
    "character_count_ep2.reset_index(inplace=True)"
   ]
  },
  {
   "cell_type": "code",
   "execution_count": 36,
   "id": "7b06713c-315d-43b0-bedc-d75f77937507",
   "metadata": {},
   "outputs": [],
   "source": [
    "character_count_ep2 = character_count_ep2.sort_values(by='n', ascending=False)\n",
    "character_count_ep2.set_index('character_str', inplace=True)\n",
    "# character_count_ep2.head()"
   ]
  },
  {
   "cell_type": "markdown",
   "id": "4d3e523e-0fc5-4c9d-8af2-83ac82ad7bef",
   "metadata": {},
   "source": [
    "### episode 3"
   ]
  },
  {
   "cell_type": "code",
   "execution_count": 37,
   "id": "7ab75cd6-f00d-41cf-b4f6-09935c13892e",
   "metadata": {},
   "outputs": [],
   "source": [
    "text_ep3 = get_text(ep3)\n",
    "line_list_ep3, other_list_ep3, character_count_ep3 = targetlist(text_ep3, ep3)\n",
    "\n",
    "line_list_ep3.to_csv(f\"{output_dir}/explore/ep3-line.csv\")\n",
    "other_list_ep3.to_csv(f\"{output_dir}/explore/ep3-other.csv\")\n",
    "character_count_ep3.to_csv(f\"{output_dir}/explore/ep3-character.csv\")"
   ]
  },
  {
   "cell_type": "code",
   "execution_count": 38,
   "id": "5faf63cc-6173-4746-b4d0-a89f6f083811",
   "metadata": {},
   "outputs": [],
   "source": [
    "# character_count_ep3.head()"
   ]
  },
  {
   "cell_type": "markdown",
   "id": "cde52a02-6e94-47f0-b7e0-da9e93fd5283",
   "metadata": {},
   "source": [
    "### episode 4 "
   ]
  },
  {
   "cell_type": "code",
   "execution_count": 39,
   "id": "98ccae86-690f-43ed-a137-10c427546b83",
   "metadata": {},
   "outputs": [],
   "source": [
    "text_ep4 = get_text(ep4)\n",
    "line_list_ep4, other_list_ep4, character_count_ep4 = targetlist(text_ep4, ep4)\n",
    "\n",
    "line_list_ep4.to_csv(f\"{output_dir}/explore/ep4-line.csv\")\n",
    "other_list_ep4.to_csv(f\"{output_dir}/explore/ep4-other.csv\")\n",
    "character_count_ep4.to_csv(f\"{output_dir}/explore/ep4-character.csv\")"
   ]
  },
  {
   "cell_type": "code",
   "execution_count": 40,
   "id": "63ff845a-a1b6-4528-b5d2-410828d03266",
   "metadata": {},
   "outputs": [],
   "source": [
    "# character_count_ep4.head()"
   ]
  },
  {
   "cell_type": "markdown",
   "id": "2dbf3f2e-df59-4fb0-93be-ed0083c63dcd",
   "metadata": {},
   "source": [
    "### episode 5"
   ]
  },
  {
   "cell_type": "code",
   "execution_count": 41,
   "id": "a6dc04f7-b579-4c12-8a7a-1cf91f5c6562",
   "metadata": {},
   "outputs": [],
   "source": [
    "text_ep5 = get_text(ep5)\n",
    "line_list_ep5, other_list_ep5, character_count_ep5 = targetlist(text_ep5, ep5)\n",
    "\n",
    "line_list_ep5.to_csv(f\"{output_dir}/explore/ep5-line.csv\")\n",
    "other_list_ep5.to_csv(f\"{output_dir}/explore/ep5-other.csv\")\n",
    "character_count_ep5.to_csv(f\"{output_dir}/explore/ep5-character.csv\")"
   ]
  },
  {
   "cell_type": "code",
   "execution_count": 42,
   "id": "f43cf5c8-5ce5-46d1-8d0b-0718b95d127f",
   "metadata": {},
   "outputs": [],
   "source": [
    "# character_count_ep5.head()"
   ]
  },
  {
   "cell_type": "markdown",
   "id": "4f32d279-e8dc-493f-a736-8dd1fc7cd42f",
   "metadata": {},
   "source": [
    "### episode 6"
   ]
  },
  {
   "cell_type": "code",
   "execution_count": 43,
   "id": "b67b9b67-9ffc-48a9-93b2-25c68fb0a388",
   "metadata": {},
   "outputs": [],
   "source": [
    "text_ep6 = get_text(ep6)\n",
    "line_list_ep6, other_list_ep6, character_count_ep6 = targetlist(text_ep6, ep6)\n",
    "\n",
    "line_list_ep6.to_csv(f\"{output_dir}/explore/ep6-line.csv\")\n",
    "other_list_ep6.to_csv(f\"{output_dir}/explore/ep6-other.csv\")\n",
    "character_count_ep6.to_csv(f\"{output_dir}/explore/ep6-character.csv\")"
   ]
  },
  {
   "cell_type": "code",
   "execution_count": 44,
   "id": "93cd3f2d-46cf-4533-88d2-b139547cabc1",
   "metadata": {},
   "outputs": [],
   "source": [
    "# character_count_ep6.head()"
   ]
  },
  {
   "cell_type": "markdown",
   "id": "391743f8-4d55-4be8-a18a-f10707570f21",
   "metadata": {},
   "source": [
    "## Compare character by episodes"
   ]
  },
  {
   "cell_type": "code",
   "execution_count": 53,
   "id": "e5751002-20e6-4d70-808b-5222b2d4344e",
   "metadata": {},
   "outputs": [
    {
     "data": {
      "image/png": "[encoded data removed]",
      "text/plain": [
       "<Figure size 1400x600 with 6 Axes>"
      ]
     },
     "metadata": {},
     "output_type": "display_data"
    }
   ],
   "source": [
    "import matplotlib.pyplot as plt\n",
    "fig, axs = plt.subplots(2, 3, figsize=(14, 6))\n",
    "axs = axs.flatten()\n",
    "\n",
    "for i, (episode_df, episode_title) in enumerate(zip([character_count_ep1, character_count_ep2, character_count_ep3, character_count_ep4, character_count_ep5, character_count_ep6], ['Episode 1', 'Episode 2', 'Episode 3', 'Episode 4', 'Episode 5', 'Episode 6'])):\n",
    "    ax = axs[i] \n",
    "    episode_df['p'].head(5).sort_values().plot.barh(ax=ax, color='blue', alpha=0.7)\n",
    "    ax.set_ylabel('Character')\n",
    "    ax.set_title(f'Top 5 Characters in {episode_title}')\n",
    "\n",
    "plt.tight_layout()\n",
    "plt.show()\n"
   ]
  },
  {
   "cell_type": "code",
   "execution_count": 46,
   "id": "f82e0e10-bb8e-4e40-b10d-d6874aca3b95",
   "metadata": {},
   "outputs": [],
   "source": [
    "# character_count_ep1.p.head(5).sort_values().plot.barh(figsize=(5,5));"
   ]
  },
  {
   "cell_type": "code",
   "execution_count": 47,
   "id": "9a1e16b0-4c17-496a-ae8d-760517a61335",
   "metadata": {},
   "outputs": [],
   "source": [
    "# character_count_ep2.p.head(5).sort_values().plot.barh(figsize=(5,5));"
   ]
  },
  {
   "cell_type": "code",
   "execution_count": 48,
   "id": "31d4454f-53cb-43a3-a39a-7e621459a39e",
   "metadata": {},
   "outputs": [],
   "source": [
    "# character_count_ep3.p.head(5).sort_values().plot.barh(figsize=(5,5));"
   ]
  },
  {
   "cell_type": "code",
   "execution_count": 49,
   "id": "b69ab8de-5205-4a0a-ab7c-e3f2b12991f1",
   "metadata": {},
   "outputs": [],
   "source": [
    "# character_count_ep4.p.head(5).sort_values().plot.barh(figsize=(5,5));"
   ]
  },
  {
   "cell_type": "code",
   "execution_count": 50,
   "id": "c81a865d-5a6d-4315-b205-7b4b27941404",
   "metadata": {},
   "outputs": [],
   "source": [
    "# character_count_ep5.p.head(5).sort_values().plot.barh(figsize=(5,5));"
   ]
  },
  {
   "cell_type": "code",
   "execution_count": 51,
   "id": "43e321a8-9d33-4a20-868f-1cab9517c014",
   "metadata": {},
   "outputs": [],
   "source": [
    "# character_count_ep6.p.head(5).sort_values().plot.barh(figsize=(5,5));"
   ]
  }
 ],
 "metadata": {
  "kernelspec": {
   "display_name": "Python 3 (ipykernel)",
   "language": "python",
   "name": "python3"
  },
  "language_info": {
   "codemirror_mode": {
    "name": "ipython",
    "version": 3
   },
   "file_extension": ".py",
   "mimetype": "text/x-python",
   "name": "python",
   "nbconvert_exporter": "python",
   "pygments_lexer": "ipython3",
   "version": "3.12.2"
  }
 },
 "nbformat": 4,
 "nbformat_minor": 5
}
